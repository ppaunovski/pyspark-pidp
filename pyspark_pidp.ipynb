{
  "nbformat": 4,
  "nbformat_minor": 0,
  "metadata": {
    "colab": {
      "provenance": [],
      "authorship_tag": "ABX9TyPPaFwMMiDnKxWNEEEVYToh",
      "include_colab_link": true
    },
    "kernelspec": {
      "name": "python3",
      "display_name": "Python 3"
    },
    "language_info": {
      "name": "python"
    }
  },
  "cells": [
    {
      "cell_type": "markdown",
      "metadata": {
        "id": "view-in-github",
        "colab_type": "text"
      },
      "source": [
        "<a href=\"https://colab.research.google.com/github/ppaunovski/pyspark-pidp/blob/master/pyspark_pidp.ipynb\" target=\"_parent\"><img src=\"https://colab.research.google.com/assets/colab-badge.svg\" alt=\"Open In Colab\"/></a>"
      ]
    },
    {
      "cell_type": "code",
      "execution_count": null,
      "metadata": {
        "id": "kShKzYwbiJYl"
      },
      "outputs": [],
      "source": [
        "import pyspark\n",
        "from pyspark.sql import SparkSession\n",
        "from pyspark.sql.functions import input_file_name, expr\n",
        "from pyspark.sql.functions import udf\n",
        "from pyspark.sql.types import DateType, StringType\n",
        "from pyspark.sql.types import FloatType\n",
        "from datetime import datetime\n",
        "from pyspark.sql.types import IntegerType\n",
        "from pyspark.sql.functions import col\n",
        "import datetime\n",
        "from pyspark.sql.functions import corr\n"
      ]
    },
    {
      "cell_type": "code",
      "source": [
        "spark = SparkSession.builder.appName(\"Stock Price Analysis\").getOrCreate()\n",
        "stocks = spark.read.csv('gs://pidp-pajo-bucket/stocks', header=True).withColumn('Ticker', input_file_name())\n",
        "stocks.show()"
      ],
      "metadata": {
        "id": "SWd7buILiV6H"
      },
      "execution_count": null,
      "outputs": []
    },
    {
      "cell_type": "code",
      "source": [
        "ticker_parser = udf(lambda ticker: (ticker.split('/')[-1]).split('.')[0])\n",
        "date_parser = udf(lambda date: datetime.strptime(date,\"%Y-%m-%d\"), DateType())\n",
        "\n",
        "def num_parser(value):\n",
        "    if isinstance(value, str):\n",
        "        return float(value.strip(\"$\"))\n",
        "    elif isinstance(value, float):\n",
        "        return value\n",
        "    elif isinstance(value, int):\n",
        "        return float(value)\n",
        "    else:\n",
        "        return None\n",
        "\n",
        "parser_number = udf(num_parser, FloatType())\n",
        "parse_int = udf(lambda x: int(x), IntegerType())"
      ],
      "metadata": {
        "id": "M9X3gPKGifTx"
      },
      "execution_count": null,
      "outputs": []
    },
    {
      "cell_type": "code",
      "source": [
        "stocks = stocks.withColumn('Ticker', ticker_parser(stocks.Ticker))\n",
        "stocks = stocks.withColumn(\"Date\", date_parser(stocks.Date))\n",
        "stocks = (stocks.withColumn(\"Open\", parser_number(stocks.Open))\n",
        "                .withColumn(\"Adj Close\", parser_number(stocks[\"Adj Close\"]))\n",
        "                .withColumn(\"Close\", parser_number(stocks.Close))\n",
        "                .withColumn(\"Low\", parser_number(stocks.Low))\n",
        "                .withColumn(\"High\", parser_number(stocks.High)))\n",
        "stocks = stocks.withColumn(\"Volume\", parse_int(stocks.Volume))\n",
        "stocks = stocks.select([\"Ticker\", \"Date\", \"Volume\", \"Open\", \"Low\", \"High\", \"Close\", \"Adj Close\"])"
      ],
      "metadata": {
        "id": "0XGHVoheipIt"
      },
      "execution_count": null,
      "outputs": []
    },
    {
      "cell_type": "code",
      "source": [
        "stocks.show()"
      ],
      "metadata": {
        "id": "mgMiUIt7ivaq"
      },
      "execution_count": null,
      "outputs": []
    },
    {
      "cell_type": "code",
      "source": [
        "start_time = datetime.datetime.now()\n",
        "\n",
        "self_join_data = stocks.select(\n",
        "    col('Ticker').alias('Ticker_1'),\n",
        "    'Date',\n",
        "    col('Close').alias('Close_1')\n",
        ").join(\n",
        "\n",
        "    stocks.select(\n",
        "\n",
        "        col('Ticker').alias('Ticker_2'),\n",
        "        'Date',\n",
        "        col('Close').alias('Close_2')\n",
        "\n",
        "    ),\n",
        "    on = 'Date',\n",
        "    how = 'inner'\n",
        "\n",
        ").filter(\n",
        "\n",
        "    col('Ticker_1') < col('Ticker_2')\n",
        "\n",
        ")\n",
        "self_join_data.show(5)\n",
        "\n",
        "stop_time = datetime.datetime.now()\n",
        "diff = stop_time - start_time\n",
        "\n",
        "print('Time taken to self join: ', diff)"
      ],
      "metadata": {
        "id": "2Wi4LXeMi1KZ"
      },
      "execution_count": null,
      "outputs": []
    },
    {
      "cell_type": "code",
      "source": [
        "print('Total number of observations after self-join: ', self_join_data.count())"
      ],
      "metadata": {
        "id": "ebkpbvKGi3Ku"
      },
      "execution_count": null,
      "outputs": []
    },
    {
      "cell_type": "code",
      "source": [
        "start_time = datetime.datetime.now()\n",
        "stock_corr = self_join_data.groupBy('Ticker_1', 'Ticker_2').agg(corr('Close_1', 'Close_2').alias('correlation'))\n",
        "stock_corr.show()\n",
        "\n",
        "stop_time = datetime.datetime.now()\n",
        "diff = stop_time - start_time\n",
        "\n",
        "print('Time taken to calculate correlation: ', diff)"
      ],
      "metadata": {
        "id": "ckInug28i42z"
      },
      "execution_count": null,
      "outputs": []
    }
  ]
}